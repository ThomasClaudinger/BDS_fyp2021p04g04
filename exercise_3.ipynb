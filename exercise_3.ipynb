{
 "metadata": {
  "language_info": {
   "codemirror_mode": {
    "name": "ipython",
    "version": 3
   },
   "file_extension": ".py",
   "mimetype": "text/x-python",
   "name": "python",
   "nbconvert_exporter": "python",
   "pygments_lexer": "ipython3",
   "version": "3.7.6"
  },
  "orig_nbformat": 2,
  "kernelspec": {
   "name": "python376jvsc74a57bd07ca953050fbd6db0e15562356b1a786d9418e582a94adc67b248dc4dbecd989f",
   "display_name": "Python 3.7.6 64-bit ('anaconda3': virtualenv)"
  },
  "metadata": {
   "interpreter": {
    "hash": "7ca953050fbd6db0e15562356b1a786d9418e582a94adc67b248dc4dbecd989f"
   }
  }
 },
 "nbformat": 4,
 "nbformat_minor": 2,
 "cells": [
  {
   "cell_type": "code",
   "execution_count": 1,
   "metadata": {},
   "outputs": [],
   "source": [
    "import os\n",
    "import random\n",
    "\n",
    "inroot = 'datasets'\n",
    "outroot = 'iaa-sets'\n",
    "\n",
    "corpora = [\n",
    "    'emoji',\n",
    "    'emotion',\n",
    "    'hate',\n",
    "    'irony',\n",
    "    'offensive',\n",
    "    'sentiment',\n",
    "    'stance/abortion',\n",
    "    'stance/atheism',\n",
    "    'stance/climate',\n",
    "    'stance/feminist',\n",
    "    'stance/hillary'\n",
    "]\n",
    "\n"
   ]
  },
  {
   "cell_type": "code",
   "execution_count": 3,
   "metadata": {
    "tags": []
   },
   "outputs": [],
   "source": [
    "\n",
    "iaa_size = 120\n",
    "\n",
    "for crp in corpora:\n",
    "    indir = inroot + '/' + crp\n",
    "    outdir = outroot + '/' + crp\n",
    "    with open(indir + '/train_text.txt', 'r') as f:\n",
    "        train_text = [line.rstrip('\\n') for line in f]\n",
    "    with open(indir + '/train_labels.txt', 'r') as f:\n",
    "        train_labels = [line.rstrip('\\n') for line in f]\n",
    "\n",
    "    train_size = len(train_text)\n",
    "    assert len(train_labels) == train_size\n",
    "\n",
    "    smpl = set(random.sample(range(train_size), iaa_size))\n",
    "    iaa_text = [t for i, t in enumerate(train_text) if i in smpl]\n",
    "    iaa_labels = [t for i, t in enumerate(train_labels) if i in smpl]\n",
    "\n",
    "    os.makedirs(outdir, exist_ok=True)\n",
    "    with open(outdir + '/iaa_text.txt', 'w') as f:\n",
    "        print('\\n'.join(iaa_text), file=f)\n",
    "    with open(outdir + '/iaa_labels.txt', 'w') as f:\n",
    "        print('\\n'.join(iaa_labels), file=f)\n",
    "    with open(outdir + '/iaa_indices.txt', 'w') as f:\n",
    "        print('\\n'.join(str(i) for i in sorted(smpl)), file=f)\n"
   ]
  },
  {
   "cell_type": "code",
   "execution_count": null,
   "metadata": {},
   "outputs": [],
   "source": []
  }
 ]
}