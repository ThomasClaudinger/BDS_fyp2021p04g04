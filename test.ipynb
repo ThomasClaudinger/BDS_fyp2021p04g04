{
 "metadata": {
  "language_info": {
   "codemirror_mode": {
    "name": "ipython",
    "version": 3
   },
   "file_extension": ".py",
   "mimetype": "text/x-python",
   "name": "python",
   "nbconvert_exporter": "python",
   "pygments_lexer": "ipython3",
   "version": "3.7.6"
  },
  "orig_nbformat": 2,
  "kernelspec": {
   "name": "python376jvsc74a57bd07ca953050fbd6db0e15562356b1a786d9418e582a94adc67b248dc4dbecd989f",
   "display_name": "Python 3.7.6 64-bit ('base': conda)"
  },
  "metadata": {
   "interpreter": {
    "hash": "7ca953050fbd6db0e15562356b1a786d9418e582a94adc67b248dc4dbecd989f"
   }
  }
 },
 "nbformat": 4,
 "nbformat_minor": 2,
 "cells": [
  {
   "cell_type": "code",
   "execution_count": 2,
   "metadata": {},
   "outputs": [],
   "source": [
    "import csv\n",
    "import re\n",
    "import os\n",
    "from tqdm import tqdm\n",
    "from sklearn.feature_extraction.text import CountVectorizer\n",
    "from sklearn.feature_extraction.text import TfidfVectorizer\n",
    "from sklearn.linear_model import SGDClassifier\n",
    "from sklearn.metrics import accuracy_score"
   ]
  },
  {
   "cell_type": "code",
   "execution_count": 47,
   "metadata": {},
   "outputs": [],
   "source": [
    "def create_csv_file(filename, train=True):\n",
    "    \n",
    "    header = ['row_number', 'text', 'polarity']\n",
    "    \n",
    "    if train == True:\n",
    "        path_to_pos = \"datasets/offensive/train/pos/\"\n",
    "        path_to_neg = \"datasets/offensive/train/neg/\"\n",
    "    else:\n",
    "        path_to_pos = \"datasets/offensive/test/pos/\"\n",
    "        path_to_neg = \"datasets/offensive/test/neg/\"\n",
    "        \n",
    "    count = 0    \n",
    "    with open(filename, \"w\", newline = '') as f1:\n",
    "         writer = csv.writer(f1, delimiter = ',')\n",
    "         writer.writerow(header)\n",
    "         for f in os.listdir(path_to_pos):\n",
    "            polarity = 1\n",
    "            if f.endswith(\".txt\"):\n",
    "                open_file = open(path_to_pos+f, \"r\")\n",
    "                data = open_file.read()\n",
    "                writer.writerow([count, f'\"{data}\"', polarity])\n",
    "                count += 1\n",
    "                open_file.close()\n",
    "         for f in os.listdir(path_to_neg):\n",
    "            polarity = 0\n",
    "            if f.endswith(\".txt\"):\n",
    "                open_file = open(path_to_neg+f, \"r\")\n",
    "                data = open_file.read()\n",
    "                writer.writerow([count, f'\"{data}\"', polarity])\n",
    "                count += 1\n",
    "                open_file.close()"
   ]
  },
  {
   "cell_type": "code",
   "execution_count": 48,
   "metadata": {},
   "outputs": [],
   "source": [
    "def create_list_of_docs(filename):\n",
    "    docs = []\n",
    "    polarity = []\n",
    "    with open(filename,'r') as csvfile:\n",
    "            reader = csv.reader(csvfile, delimiter = ',')\n",
    "            next(reader, None) #this skips the header row\n",
    "            for row in tqdm(reader):\n",
    "                docs.append(row[1])\n",
    "                polarity.append(row[2])    \n",
    "    return docs, polarity"
   ]
  },
  {
   "cell_type": "code",
   "execution_count": 49,
   "metadata": {},
   "outputs": [],
   "source": [
    "def remove_special_chars (strs):\n",
    "    strs = re.sub(r'<.*?>', '', strs)\n",
    "    strs = re.sub(r'[^a-zA-Z. ]', '', strs) \n",
    "    \n",
    "    return strs"
   ]
  },
  {
   "cell_type": "code",
   "execution_count": 50,
   "metadata": {},
   "outputs": [],
   "source": [
    "def data_preprocess(docs):\n",
    "    for index, row in tqdm(enumerate(docs)):\n",
    "        docs[index] = remove_special_chars(row)    \n",
    "    return docs"
   ]
  },
  {
   "cell_type": "code",
   "execution_count": null,
   "metadata": {},
   "outputs": [],
   "source": [
    "def ngram_classifier (docs_train, y_train, docs_test, ngram_range, tfidf):\n",
    "    \n",
    "    if tfidf == True:\n",
    "        tfidfvec = TfidfVectorizer(stop_words = \"english\",\n",
    "                                  analyzer = 'word',\n",
    "                                  lowercase = True,\n",
    "                                  use_idf = True,\n",
    "                                  ngram_range = ngram_range)\n",
    "        \n",
    "        X_train = tfidfvec.fit_transform(docs_train)\n",
    "    \n",
    "        X_test = tfidfvec.transform(docs_test)\n",
    "        \n",
    "    else:\n",
    "        cvec = CountVectorizer(stop_words = \"english\",\n",
    "                               analyzer = 'word',\n",
    "                               lowercase = True,\n",
    "                               ngram_range = ngram_range)\n",
    "    \n",
    "        X_train = cvec.fit_transform(docs_train)\n",
    "        \n",
    "        X_test = cvec.transform(docs_test)\n",
    "        \n",
    "    \n",
    "    \n",
    "    clf = SGDClassifier(loss = \",log\", penalty = \"l1\")\n",
    "    \n",
    "    clf.fit(X_train, y_train)\n",
    "    \n",
    "    prediction = clf.predict(X_test)\n",
    "    \n",
    "    return prediction"
   ]
  },
  {
   "cell_type": "code",
   "execution_count": null,
   "metadata": {},
   "outputs": [],
   "source": [
    "y_pred_unigram = ngram_classifier(docs_train,\n",
    "                                  y_train, \n",
    "                                  docs_test, \n",
    "                                  (1,1), \n",
    "                                  tfidf = False)\n",
    "                \n",
    "accuracy_score(y_test_true, y_pred_unigram)"
   ]
  }
 ]
}