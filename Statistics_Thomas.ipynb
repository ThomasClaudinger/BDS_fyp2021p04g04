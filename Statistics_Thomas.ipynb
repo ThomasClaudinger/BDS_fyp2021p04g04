{
 "cells": [
  {
   "cell_type": "markdown",
   "metadata": {},
   "source": [
    "# Emoji"
   ]
  },
  {
   "cell_type": "code",
   "execution_count": null,
   "metadata": {},
   "outputs": [],
   "source": [
    "# Barplot of emoji labels distribution\n",
    "test_path = \"datasets/emoji/test_labels.txt\"\n",
    "val_path = \"datasets/emoji/val_labels.txt\"\n",
    "train_path = \"datasets/emoji/train_labels.txt\"\n",
    "map_path = \"datasets/emoji/mapping.txt\"\n",
    "\n",
    "test_labels = make_corpus(test_path) + make_corpus(val_path) + make_corpus(train_path)\n",
    "test_labels = [int(i) for i in test_labels]\n",
    "test_labels = dict(collections.Counter(test_labels))\n",
    "test_labels = collections.OrderedDict(sorted(test_labels.items()))\n",
    "barplot = plt.bar(test_labels.keys(), test_labels.values())\n",
    "\n",
    "#List of emoji labels\n",
    "label_df = pd.read_csv(map_path, sep='\\t', lineterminator='\\n', header=None)\n",
    "label_df = label_df.drop([3], axis=1)\n",
    "label_df = label_df.rename(columns={0:\"Label no.\",1:\"Emoji\", 2:\"Emoji as txt\"})\n",
    "label_df[\"Count\"] = test_labels.values()\n",
    "label_df[\"Percentage\"] = round(label_df[\"Count\"]/label_df[\"Count\"].sum()*100,2)\n",
    "\n",
    "# Sorting by count\n",
    "label_df.sort_values(\"Count\", ascending = False)"
   ]
  },
  {
   "cell_type": "markdown",
   "metadata": {},
   "source": [
    "# Offensive"
   ]
  },
  {
   "cell_type": "code",
   "execution_count": null,
   "metadata": {},
   "outputs": [],
   "source": [
    "# Barplot of offensive labels distribution\n",
    "test_path = \"datasets/offensive/test_labels.txt\"\n",
    "val_path = \"datasets/offensive/val_labels.txt\"\n",
    "train_path = \"datasets/offensive/train_labels.txt\"\n",
    "map_path = \"datasets/offensive/mapping.txt\"\n",
    "\n",
    "test_labels = make_corpus(test_path) + make_corpus(val_path) + make_corpus(train_path)\n",
    "test_labels = [int(i) for i in test_labels]\n",
    "test_labels = dict(collections.Counter(test_labels))\n",
    "test_labels = collections.OrderedDict(sorted(test_labels.items()))\n",
    "plt.bar(test_labels.keys(), test_labels.values())\n",
    "\n",
    "#List of offensive labels\n",
    "label_df = pd.read_csv(map_path, sep='\\t', lineterminator='\\n', header=None)\n",
    "label_df = label_df.rename(columns={0:\"Label no.\",1:\"Label\"})\n",
    "label_df[\"Count\"] = test_labels.values()\n",
    "label_df[\"Percentage\"] = round(label_df[\"Count\"]/label_df[\"Count\"].sum()*100,2)\n",
    "label_df"
   ]
  }
 ],
 "metadata": {
  "kernelspec": {
   "display_name": "Python 3",
   "language": "python",
   "name": "python3"
  },
  "language_info": {
   "codemirror_mode": {
    "name": "ipython",
    "version": 3
   },
   "file_extension": ".py",
   "mimetype": "text/x-python",
   "name": "python",
   "nbconvert_exporter": "python",
   "pygments_lexer": "ipython3",
   "version": "3.8.5"
  }
 },
 "nbformat": 4,
 "nbformat_minor": 4
}
